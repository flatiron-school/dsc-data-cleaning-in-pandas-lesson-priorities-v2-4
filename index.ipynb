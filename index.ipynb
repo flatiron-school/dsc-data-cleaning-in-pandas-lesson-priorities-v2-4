{
 "cells": [
  {
   "cell_type": "markdown",
   "id": "b5ddff41",
   "metadata": {
    "index": 0,
    "solution": false
   },
   "source": [
    "# Topic 5 Lesson Priorities"
   ]
  },
  {
   "cell_type": "markdown",
   "id": "91f9e5da",
   "metadata": {
    "index": 1,
    "solution": false
   },
   "source": [
    "### 1st Priority\n",
    "\n",
    "If you are short on time, be sure to make it through these items:\n",
    "\n",
    "- Pandas Groupby\n",
    "- Combining DataFrames with Pandas\n",
    "- Dealing with Missing Data\n",
    "- Dealing with Missing Data - Lab\n",
    "> This lab practices the following important methods: `isna`, `drop`, `dropna`, and `fillna`.\n",
    "- More on Missing Data\n",
    "> introduces imputation of a value into missing values"
   ]
  },
  {
   "cell_type": "markdown",
   "id": "a0abfa32",
   "metadata": {
    "index": 2,
    "solution": false
   },
   "source": [
    "## 2nd Priority\n",
    "\n",
    "- Combining DataFrames with Pandas - Lab\n",
    "> practice pd.concat(); practice identifying/setting an appropriate index; review types of joins\n",
    "- More on Missing Data - Lab\n",
    "> practice imputing mean/median into missing values.\n"
   ]
  },
  {
   "cell_type": "markdown",
   "id": "01e54943",
   "metadata": {
    "index": 3,
    "solution": false
   },
   "source": [
    "## Appendix\n",
    "\n",
    "- Lambda Functions\n",
    "- Lambda Functions - Lab\n",
    "> Lambda functions can make your life easier, and are an important concept to understand once you have understood how to write a function with `def`.\n",
    "- Pivot Tables with Pandas\n",
    "- Pivot Tables with Pandas - Lab\n",
    "> Pivot tables are an important tool to be aware of.  These labs will help you consider the shape of your data, and allow you to practice reshaping it.  "
   ]
  },
  {
   "cell_type": "markdown",
   "id": "f4c5ffae",
   "metadata": {
    "index": 4,
    "solution": false
   },
   "source": [
    "## Note on Lesson Priorities\n",
    "\n",
    "The items in the topics are meant to be completed sequentially.  Lesson priorities are meant to help you zero in on the most important content if you are short on time.  That does not mean the items marked as 2nd Priority are not important to your development as a data scientist. Rather, it means that they do not **introduce** concepts that are essential to progressing through the Flatiron Data Science program. \n",
    "\n",
    "You will notice that many labs are marked are 2nd Priority.  Labs reinforce concepts which are introduced by prior items.  If you are short on time, your first priority should be to digest the concept where it has been introduced, then reinforce the concept in the lab when you have time.  "
   ]
  }
 ],
 "metadata": {
  "kernelspec": {
   "display_name": "learn-env",
   "language": "python",
   "name": "learn-env"
  },
  "language_info": {
   "codemirror_mode": {
    "name": "ipython",
    "version": 3
   },
   "file_extension": ".py",
   "mimetype": "text/x-python",
   "name": "python",
   "nbconvert_exporter": "python",
   "pygments_lexer": "ipython3",
   "version": "3.8.5"
  }
 },
 "nbformat": 4,
 "nbformat_minor": 5
}
